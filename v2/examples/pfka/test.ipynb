{
 "cells": [
  {
   "cell_type": "code",
   "execution_count": 1,
   "metadata": {},
   "outputs": [
    {
     "name": "stderr",
     "output_type": "stream",
     "text": [
      "Determination of memory status is not supported on this \n",
      " platform, measuring for memoryleaks will never fail\n"
     ]
    }
   ],
   "source": [
    "bayesian_hdx_dir = '../../pyext/src'\n",
    "\n",
    "import sys\n",
    "sys.path.append(bayesian_hdx_dir)\n",
    "import scoring, sampling, system, model, hxio, tools, analysis\n",
    "\n",
    "#from pyopenms import *\n",
    "import pandas as pd\n",
    "\n",
    "import seaborn as sns\n",
    "import matplotlib.pyplot as plt\n",
    "import numpy as np"
   ]
  },
  {
   "cell_type": "code",
   "execution_count": 2,
   "metadata": {},
   "outputs": [],
   "source": [
    "sequence = \"MHHHHHHENLYFQSIKKIGVLTSGGDAPGMNAAIRGVVRSALTEGLEVMGIYDGYLGLYEDRMVQLDRYSVSDMINRGGTFLGSARFPEFRDENIRAVAIENLKKRGIDALVVIGGDGSYMGAMRLTEMGFPCIGLPGTIDNDIKGTDYTIGFFTALSTVVEAIDRLRDTSSSHQRISVVEVMGRYCGDLTLAAAIAGGCEFVVVPEVEFSREDLVNEIKAGIAKGKKHAIVAITEHMCDVDELAHFIEKETGRETRATVLGHIQRGGSPVPYDRILASRMGAYAIDLLLAGYGGRCVGIQNEQLVHHDIIDAIENMKRPFKGDWLDCAEKMY\"\n",
    "infile = \"./bayesian_hdx_pfka_APO.dat\""
   ]
  },
  {
   "cell_type": "code",
   "execution_count": 3,
   "metadata": {},
   "outputs": [
    {
     "name": "stdout",
     "output_type": "stream",
     "text": [
      "Standard Conditions used.  Please modify these in the script if you are not at 293K and pH=7\n"
     ]
    },
    {
     "name": "stderr",
     "output_type": "stream",
     "text": [
      "/Users/chenlin/Library/CloudStorage/OneDrive-Personal/research_git/bayesian_hdx/v2/examples/pfka/../../pyext/src/data.py:138: RuntimeWarning: divide by zero encountered in scalar divide\n",
      "  fastest_logk = numpy.log10(-numpy.log(threshold)/first_time_point)\n"
     ]
    },
    {
     "name": "stdout",
     "output_type": "stream",
     "text": [
      "Done loading raw MS data.\n",
      "Set score for 306 t0 replicates\n"
     ]
    }
   ],
   "source": [
    "dataset = hxio.import_HXcolumns(infile,\n",
    "                                sequence,\n",
    "                                name=\"APO\",\n",
    "                                percentD=False,\n",
    "                                conditions=None,\n",
    "                                error_estimate=1,\n",
    "                                n_fastamides=0,\n",
    "                                offset=0)\n",
    "\n",
    "\n",
    "raw_spectra_path = '/Users/chenlin/Library/CloudStorage/OneDrive-Personal/Postdoc/EX/EX_CL-6-56/Biorep1_TechRep3_spectra/SpecExport/'\n",
    "\n",
    "hxio.load_raw_ms_to_hdxms_data(dataset, raw_spectra_path)\n",
    "tools.set_t0_rep_score(dataset)"
   ]
  },
  {
   "cell_type": "code",
   "execution_count": 17,
   "metadata": {},
   "outputs": [
    {
     "data": {
      "text/plain": [
       "0.007271811868544132"
      ]
     },
     "execution_count": 17,
     "metadata": {},
     "output_type": "execute_result"
    }
   ],
   "source": [
    "p1 = np.array([0.1, 0.2, 0.3, 0.4])\n",
    "p2 = np.array([0.1, 0.20, 0.3, 0.24])\n",
    "tools.get_divergence(p1, p2, method='JS')\n"
   ]
  },
  {
   "cell_type": "code",
   "execution_count": 89,
   "metadata": {},
   "outputs": [
    {
     "name": "stdout",
     "output_type": "stream",
     "text": [
      "CPU times: user 2 µs, sys: 1e+03 ns, total: 3 µs\n",
      "Wall time: 4.77 µs\n"
     ]
    },
    {
     "ename": "KeyboardInterrupt",
     "evalue": "",
     "output_type": "error",
     "traceback": [
      "\u001b[0;31m---------------------------------------------------------------------------\u001b[0m",
      "\u001b[0;31mKeyboardInterrupt\u001b[0m                         Traceback (most recent call last)",
      "\u001b[1;32m/Users/chenlin/Library/CloudStorage/OneDrive-Personal/research_git/bayesian_hdx/v2/examples/pfka/test.ipynb Cell 9\u001b[0m line \u001b[0;36m3\n\u001b[1;32m      <a href='vscode-notebook-cell:/Users/chenlin/Library/CloudStorage/OneDrive-Personal/research_git/bayesian_hdx/v2/examples/pfka/test.ipynb#X25sZmlsZQ%3D%3D?line=0'>1</a>\u001b[0m get_ipython()\u001b[39m.\u001b[39mrun_line_magic(\u001b[39m'\u001b[39m\u001b[39mtime\u001b[39m\u001b[39m'\u001b[39m, \u001b[39m'\u001b[39m\u001b[39m'\u001b[39m)\n\u001b[1;32m      <a href='vscode-notebook-cell:/Users/chenlin/Library/CloudStorage/OneDrive-Personal/research_git/bayesian_hdx/v2/examples/pfka/test.ipynb#X25sZmlsZQ%3D%3D?line=1'>2</a>\u001b[0m \u001b[39mfor\u001b[39;00m i \u001b[39min\u001b[39;00m \u001b[39mrange\u001b[39m(\u001b[39m1\u001b[39m, \u001b[39m1000000\u001b[39m):\n\u001b[0;32m----> <a href='vscode-notebook-cell:/Users/chenlin/Library/CloudStorage/OneDrive-Personal/research_git/bayesian_hdx/v2/examples/pfka/test.ipynb#X25sZmlsZQ%3D%3D?line=2'>3</a>\u001b[0m     tools\u001b[39m.\u001b[39;49mget_divergence(x1, x2, method\u001b[39m=\u001b[39;49m\u001b[39m'\u001b[39;49m\u001b[39mKL\u001b[39;49m\u001b[39m'\u001b[39;49m)\n",
      "File \u001b[0;32m~/Library/CloudStorage/OneDrive-Personal/research_git/bayesian_hdx/v2/examples/pfka/../../pyext/src/tools.py:528\u001b[0m, in \u001b[0;36mget_divergence\u001b[0;34m(x1, x2, method)\u001b[0m\n\u001b[1;32m    524\u001b[0m x2 \u001b[39m=\u001b[39m np\u001b[39m.\u001b[39mpad(x2, (\u001b[39m0\u001b[39m, size \u001b[39m-\u001b[39m \u001b[39mlen\u001b[39m(x2)))\n\u001b[1;32m    526\u001b[0m \u001b[39mif\u001b[39;00m method \u001b[39m==\u001b[39m \u001b[39m'\u001b[39m\u001b[39mKL\u001b[39m\u001b[39m'\u001b[39m:\n\u001b[1;32m    527\u001b[0m     \u001b[39m# Remove zeros to avoid log(0) and 0 * log(0) in the KL divergence calculation\u001b[39;00m\n\u001b[0;32m--> 528\u001b[0m     non_zero_indices \u001b[39m=\u001b[39m np\u001b[39m.\u001b[39mlogical_and(x1 \u001b[39m!=\u001b[39;49m \u001b[39m0\u001b[39;49m, x2 \u001b[39m!=\u001b[39m \u001b[39m0\u001b[39m)\n\u001b[1;32m    529\u001b[0m     \u001b[39mreturn\u001b[39;00m entropy(x1[non_zero_indices], x2[non_zero_indices])\n\u001b[1;32m    530\u001b[0m \u001b[39melif\u001b[39;00m method \u001b[39m==\u001b[39m \u001b[39m'\u001b[39m\u001b[39mJS\u001b[39m\u001b[39m'\u001b[39m:\n",
      "\u001b[0;31mKeyboardInterrupt\u001b[0m: "
     ]
    }
   ],
   "source": [
    "%time\n",
    "for i in range(1, 1000000):\n",
    "    tools.get_divergence(x1, x2, method='KL')"
   ]
  },
  {
   "cell_type": "code",
   "execution_count": 4,
   "metadata": {},
   "outputs": [
    {
     "data": {
      "text/plain": [
       "[3,\n",
       " 2,\n",
       " 2,\n",
       " 1,\n",
       " 1,\n",
       " 2,\n",
       " 2,\n",
       " 2,\n",
       " 3,\n",
       " 2,\n",
       " 1,\n",
       " 2,\n",
       " 3,\n",
       " 2,\n",
       " 3,\n",
       " 3,\n",
       " 2,\n",
       " 2,\n",
       " 2,\n",
       " 1,\n",
       " 1,\n",
       " 1,\n",
       " 3,\n",
       " 2,\n",
       " 2,\n",
       " 2,\n",
       " 1,\n",
       " 2,\n",
       " 1,\n",
       " 2,\n",
       " 2,\n",
       " 1,\n",
       " 3,\n",
       " 1,\n",
       " 2,\n",
       " 1,\n",
       " 2,\n",
       " 3,\n",
       " 2,\n",
       " 2,\n",
       " 1,\n",
       " 2,\n",
       " 2,\n",
       " 1,\n",
       " 2,\n",
       " 2,\n",
       " 3,\n",
       " 1,\n",
       " 2,\n",
       " 1,\n",
       " 2,\n",
       " 2,\n",
       " 2,\n",
       " 2,\n",
       " 2,\n",
       " 4,\n",
       " 3,\n",
       " 3,\n",
       " 4,\n",
       " 3,\n",
       " 1,\n",
       " 2,\n",
       " 1,\n",
       " 1,\n",
       " 1,\n",
       " 1,\n",
       " 1,\n",
       " 2,\n",
       " 1,\n",
       " 1,\n",
       " 1,\n",
       " 1,\n",
       " 1,\n",
       " 1,\n",
       " 1,\n",
       " 1,\n",
       " 1,\n",
       " 2,\n",
       " 2,\n",
       " 1,\n",
       " 1,\n",
       " 1,\n",
       " 1,\n",
       " 2,\n",
       " 3,\n",
       " 2,\n",
       " 2,\n",
       " 1,\n",
       " 1,\n",
       " 1,\n",
       " 1,\n",
       " 1,\n",
       " 2,\n",
       " 1,\n",
       " 1,\n",
       " 1,\n",
       " 1,\n",
       " 1,\n",
       " 1,\n",
       " 2,\n",
       " 2,\n",
       " 2,\n",
       " 2,\n",
       " 1,\n",
       " 2,\n",
       " 4,\n",
       " 2,\n",
       " 2,\n",
       " 2,\n",
       " 2,\n",
       " 2,\n",
       " 2,\n",
       " 1,\n",
       " 2,\n",
       " 1,\n",
       " 1,\n",
       " 3,\n",
       " 2,\n",
       " 2,\n",
       " 1,\n",
       " 1,\n",
       " 2,\n",
       " 1,\n",
       " 2,\n",
       " 1,\n",
       " 1,\n",
       " 1,\n",
       " 2,\n",
       " 1,\n",
       " 2,\n",
       " 1,\n",
       " 2,\n",
       " 2,\n",
       " 2,\n",
       " 2,\n",
       " 3,\n",
       " 2,\n",
       " 3,\n",
       " 1,\n",
       " 2,\n",
       " 2,\n",
       " 1,\n",
       " 2,\n",
       " 2,\n",
       " 2,\n",
       " 2,\n",
       " 1,\n",
       " 1,\n",
       " 2,\n",
       " 2,\n",
       " 1,\n",
       " 2,\n",
       " 1,\n",
       " 2,\n",
       " 1,\n",
       " 2,\n",
       " 2,\n",
       " 2,\n",
       " 1,\n",
       " 3,\n",
       " 2,\n",
       " 1,\n",
       " 2,\n",
       " 2,\n",
       " 2,\n",
       " 3,\n",
       " 2,\n",
       " 2,\n",
       " 2,\n",
       " 1,\n",
       " 2,\n",
       " 1,\n",
       " 1,\n",
       " 1,\n",
       " 1,\n",
       " 1]"
      ]
     },
     "execution_count": 4,
     "metadata": {},
     "output_type": "execute_result"
    }
   ],
   "source": [
    "[pep.get_best_charge_state() for pep in dataset.peptides]"
   ]
  },
  {
   "cell_type": "code",
   "execution_count": 5,
   "metadata": {},
   "outputs": [],
   "source": [
    "pep = dataset.peptides[10]"
   ]
  },
  {
   "cell_type": "code",
   "execution_count": 6,
   "metadata": {},
   "outputs": [
    {
     "data": {
      "text/html": [
       "<div>\n",
       "<style scoped>\n",
       "    .dataframe tbody tr th:only-of-type {\n",
       "        vertical-align: middle;\n",
       "    }\n",
       "\n",
       "    .dataframe tbody tr th {\n",
       "        vertical-align: top;\n",
       "    }\n",
       "\n",
       "    .dataframe thead th {\n",
       "        text-align: right;\n",
       "    }\n",
       "</style>\n",
       "<table border=\"1\" class=\"dataframe\">\n",
       "  <thead>\n",
       "    <tr style=\"text-align: right;\">\n",
       "      <th></th>\n",
       "      <th>m/z</th>\n",
       "      <th>Intensity</th>\n",
       "    </tr>\n",
       "  </thead>\n",
       "  <tbody>\n",
       "    <tr>\n",
       "      <th>0</th>\n",
       "      <td>768.2866</td>\n",
       "      <td>0.000000</td>\n",
       "    </tr>\n",
       "    <tr>\n",
       "      <th>1</th>\n",
       "      <td>768.2899</td>\n",
       "      <td>0.000099</td>\n",
       "    </tr>\n",
       "    <tr>\n",
       "      <th>2</th>\n",
       "      <td>768.2933</td>\n",
       "      <td>0.003696</td>\n",
       "    </tr>\n",
       "    <tr>\n",
       "      <th>3</th>\n",
       "      <td>768.2967</td>\n",
       "      <td>0.009423</td>\n",
       "    </tr>\n",
       "    <tr>\n",
       "      <th>4</th>\n",
       "      <td>768.3000</td>\n",
       "      <td>0.010882</td>\n",
       "    </tr>\n",
       "    <tr>\n",
       "      <th>...</th>\n",
       "      <td>...</td>\n",
       "      <td>...</td>\n",
       "    </tr>\n",
       "    <tr>\n",
       "      <th>2989</th>\n",
       "      <td>778.3664</td>\n",
       "      <td>0.000000</td>\n",
       "    </tr>\n",
       "    <tr>\n",
       "      <th>2990</th>\n",
       "      <td>778.3698</td>\n",
       "      <td>0.000000</td>\n",
       "    </tr>\n",
       "    <tr>\n",
       "      <th>2991</th>\n",
       "      <td>778.3731</td>\n",
       "      <td>0.004986</td>\n",
       "    </tr>\n",
       "    <tr>\n",
       "      <th>2992</th>\n",
       "      <td>778.3765</td>\n",
       "      <td>0.004962</td>\n",
       "    </tr>\n",
       "    <tr>\n",
       "      <th>2993</th>\n",
       "      <td>778.3799</td>\n",
       "      <td>0.000081</td>\n",
       "    </tr>\n",
       "  </tbody>\n",
       "</table>\n",
       "<p>2994 rows × 2 columns</p>\n",
       "</div>"
      ],
      "text/plain": [
       "           m/z  Intensity\n",
       "0     768.2866   0.000000\n",
       "1     768.2899   0.000099\n",
       "2     768.2933   0.003696\n",
       "3     768.2967   0.009423\n",
       "4     768.3000   0.010882\n",
       "...        ...        ...\n",
       "2989  778.3664   0.000000\n",
       "2990  778.3698   0.000000\n",
       "2991  778.3731   0.004986\n",
       "2992  778.3765   0.004962\n",
       "2993  778.3799   0.000081\n",
       "\n",
       "[2994 rows x 2 columns]"
      ]
     },
     "execution_count": 6,
     "metadata": {},
     "output_type": "execute_result"
    }
   ],
   "source": [
    "pep.best_t0_replicate.raw_ms"
   ]
  },
  {
   "cell_type": "code",
   "execution_count": 7,
   "metadata": {},
   "outputs": [],
   "source": [
    "pep = dataset.peptides[122]"
   ]
  },
  {
   "cell_type": "code",
   "execution_count": 8,
   "metadata": {},
   "outputs": [
    {
     "data": {
      "text/plain": [
       "array([0.62423131, 0.34872533, 0.02704337])"
      ]
     },
     "execution_count": 8,
     "metadata": {},
     "output_type": "execute_result"
    }
   ],
   "source": [
    "tools.get_isotope_envelope(pep.best_t0_replicate)['Intensity'].values"
   ]
  },
  {
   "cell_type": "code",
   "execution_count": 9,
   "metadata": {},
   "outputs": [
    {
     "data": {
      "image/png": "[encoded data removed]",
      "text/plain": [
       "<Figure size 800x1000 with 5 Axes>"
      ]
     },
     "metadata": {},
     "output_type": "display_data"
    }
   ],
   "source": [
    "import seaborn as sns\n",
    "import matplotlib.pyplot as plt\n",
    "fig, axes = plt.subplots(5, 1,figsize=(8,10), sharex=True, sharey=True)\n",
    "\n",
    "for i,rep in enumerate([rep for tp in pep.timepoints for rep in tp.get_replicates() if rep.charge_state == pep.best_charge_state][:5]):\n",
    "    ax = axes.flatten()[i]\n",
    "\n",
    "    isotope_envelope = tools.get_isotope_envelope(rep)\n",
    "    ax.stem(isotope_envelope['m/z'],isotope_envelope['Intensity'], linefmt='-', markerfmt=' ', basefmt=\" \", label=f't={rep.timepoint.time}')\n",
    "    #sns.lineplot(x='m/z', y='Intensity', data=tp.raw_ms, linewidth=1.0)\n",
    "\n",
    "    ax.legend()\n",
    "    #ax.set_ylim(0, 0.3)\n",
    "\n",
    "\n",
    "plt.tight_layout()"
   ]
  },
  {
   "cell_type": "code",
   "execution_count": null,
   "metadata": {},
   "outputs": [],
   "source": []
  }
 ],
 "metadata": {
  "kernelspec": {
   "display_name": "openmm",
   "language": "python",
   "name": "python3"
  },
  "language_info": {
   "codemirror_mode": {
    "name": "ipython",
    "version": 3
   },
   "file_extension": ".py",
   "mimetype": "text/x-python",
   "name": "python",
   "nbconvert_exporter": "python",
   "pygments_lexer": "ipython3",
   "version": "3.8.16"
  }
 },
 "nbformat": 4,
 "nbformat_minor": 2
}
