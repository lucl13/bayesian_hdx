{
 "cells": [
  {
   "cell_type": "code",
   "execution_count": 1,
   "metadata": {},
   "outputs": [],
   "source": [
    "bayesian_hdx_dir = '../../pyext/src'\n",
    "\n",
    "import sys\n",
    "sys.path.append(bayesian_hdx_dir)\n",
    "import scoring, sampling, system, model, hxio, tools, analysis\n",
    "\n",
    "#from pyopenms import *\n",
    "import pandas as pd\n",
    "\n",
    "import seaborn as sns\n",
    "import matplotlib.pyplot as plt\n",
    "import numpy as np"
   ]
  },
  {
   "cell_type": "code",
   "execution_count": 2,
   "metadata": {},
   "outputs": [],
   "source": [
    "sequence = \"MNMKKLATLVSAVALSATVSANAMAKDTIALVVSTLNNPFFVSLKDGAQKEADKLGYNLVVLDSQNNPAKELANVQDLTVRGTKILLINPTDSDAVGNAVKMANQANIPVITLDRQATKGEVVSHIASDNVLGGKIAGDYIAKKAGEGAKVIELQGIAGTSAARERGEGFQQAVAAHKFNVLASQPADFDRIKGLNVMQNLLTAHPDVQAVFAQNDEMALGALRALQTAGKSDVMVVGFDGTPDGEKAVNDGKLAATIAQLPDQIGAKGVETADKVLKGEKVQAKYPVDLKLVVKQ\"\n",
    "\n",
    "infile = \"./data/bayesian_hdx_RBSB_1025_APO.dat\"\n",
    "\n",
    "pof = analysis.ParseOutputFile('./output/models_scores_sigmas-RBSB_1025_mae_avg_refined_1.dat')"
   ]
  },
  {
   "cell_type": "code",
   "execution_count": 3,
   "metadata": {},
   "outputs": [
    {
     "name": "stdout",
     "output_type": "stream",
     "text": [
      "Standard Conditions used.  Please modify these in the script if you are not at 293K and pH=7\n"
     ]
    },
    {
     "name": "stderr",
     "output_type": "stream",
     "text": [
      "/home/chenlin/Documents/research_git/bayesian_hdx/v2/examples/rbsb_fulld/../../pyext/src/data.py:139: RuntimeWarning: divide by zero encountered in scalar divide\n",
      "  fastest_logk = numpy.log10(-numpy.log(threshold)/first_time_point)\n"
     ]
    },
    {
     "name": "stdout",
     "output_type": "stream",
     "text": [
      "bad replicate droped: LVVSTLN 0.0 3\n",
      "bad replicate droped: HKFNVL 3840.0 3\n",
      "bad replicate droped: HKFNVL 7680.0 3\n",
      "Done loading raw MS data.\n",
      "Set score for 500 t0 replicates\n",
      "removing weak signal replicates\n",
      "LVVSTLNNPFFVS 0.0 1 removed\n",
      "ASQPADFDR 120.0 1 removed\n",
      "removing low sn ratio replicates\n",
      "LVVSTLNNPFFVS 120.0 2 removed\n",
      "LVVSTLNNPFFVS 120.0 removed\n",
      "VVLDSQNNPAKELANVQDL 120.0 2 removed\n",
      "LDSQNNPAKELANVQ 120.0 3 removed\n",
      "ANVQDLTVRGTKIL 120.0 2 removed\n",
      "ILLINPTDSDAVGNA 120.0 2 removed\n",
      "ILLINPTDSDAVGNA 120.0 removed\n",
      "VKMANQANIPVITL 120.0 3 removed\n",
      "DRQATKGEVVSHIA 120.0 3 removed\n",
      "DRQATKGEVVSHIA 120.0 removed\n",
      "IAGDYIAKKAGEGAK 120.0 2 removed\n",
      "DYIAKKAGEGAK 120.0 2 removed\n",
      "QGIAGTSAARERG 120.0 2 removed\n",
      "LTAHPDVQ 120.0 1 removed\n",
      "AQNDEMALGALRAL 480.0 2 removed\n",
      "VVGFDGTPDGEKAVNDGKL 120.0 3 removed\n",
      "VVGFDGTPDGEKAVNDGKL 120.0 removed\n",
      "DGTPDGEKAVNDGKLAAT 120.0 2 removed\n",
      "DGTPDGEKAVNDGKLAAT 120.0 removed\n",
      "removing high back exchange replicates\n",
      "LKDGAQKEADKLGYNLVVL 0.0 2 removed\n",
      "LKDGAQKEADKLGYNLVVL 30.0 3 removed\n",
      "LKDGAQKEADKLGYNLVVL 30.0 removed\n",
      "LKDGAQKEADKLGYNLVVL 960.0 3 removed\n",
      "LKDGAQKEADKLGYNLVVL 960.0 removed\n",
      "LKDGAQKEADKLGYNLVVL 3840.0 3 removed\n",
      "LKDGAQKEADKLGYNLVVL 3840.0 removed\n",
      "LKDGAQKEADKLGYNLVVL 15360.0 3 removed\n",
      "LKDGAQKEADKLGYNLVVL 15360.0 removed\n"
     ]
    },
    {
     "data": {
      "text/plain": [
       "<data.Dataset at 0x7f078b18a410>"
      ]
     },
     "execution_count": 3,
     "metadata": {},
     "output_type": "execute_result"
    }
   ],
   "source": [
    "dataset = hxio.import_HXcolumns(infile,\n",
    "                                sequence,\n",
    "                                name=\"APO\",\n",
    "                                percentD=True,\n",
    "                                conditions=None,\n",
    "                                error_estimate=0.5,\n",
    "                                n_fastamides=0,\n",
    "                                offset=0)\n",
    "\n",
    "\n",
    "raw_spectra_path = '../rbsb/SpecExport_1025/'\n",
    "\n",
    "hxio.load_raw_ms_to_hdxms_data(dataset, raw_spectra_path)\n",
    "tools.set_t0_rep_score(dataset)\n",
    "tools.refine_dataset(dataset)"
   ]
  },
  {
   "cell_type": "code",
   "execution_count": 5,
   "metadata": {},
   "outputs": [
    {
     "name": "stdout",
     "output_type": "stream",
     "text": [
      "DS ./output\n",
      "Test apo_1 APO ./output/datasets/Test_apo_1_APO.hxd 0.5\n"
     ]
    },
    {
     "name": "stderr",
     "output_type": "stream",
     "text": [
      "/home/chenlin/Documents/research_git/bayesian_hdx/v2/examples/rbsb_fulld/../../pyext/src/data.py:139: RuntimeWarning: divide by zero encountered in scalar divide\n",
      "  fastest_logk = numpy.log10(-numpy.log(threshold)/first_time_point)\n"
     ]
    }
   ],
   "source": [
    "# Initialize model\n",
    "state_name = \"apo\"\n",
    "outputdir = \"./output\"\n",
    "num_exp_bins = 14\n",
    "nsteps =1000\n",
    "sys = system.System(output_dir=outputdir, noclobber=False)\n",
    "mol = sys.add_macromolecule(sequence, \"Test\", initialize_apo=False)\n",
    "\n",
    "\n",
    "# Add states\n",
    "if state_name is None:\n",
    "    raise ValueError(\"Must provide a state name\")\n",
    "state = mol.add_state(f\"{state_name}_1\")\n",
    "state.scoring_function = scoring.ScoringFunction(scoring.GaussianNoiseModelIsotope(state, truncated=False,)) \n",
    "\n",
    "# Add data to molecule state\n",
    "state.add_dataset(dataset)\n",
    "\n",
    "sys.output.write_datasets()\n",
    "\n",
    "output_model = model.ResidueGridModel(state, grid_size=num_exp_bins)\n",
    "state.set_output_model(output_model)\n",
    "\n",
    "\n",
    "\n",
    "sys.output.initialize_output_model_file(state, output_model.pf_grids)\n",
    "state.output_model.model = np.array(pof.get_best_scoring_models(10)[8][1])\n",
    "score = state.calculate_score(state.output_model.model, calc_incorporations=True)\n"
   ]
  },
  {
   "cell_type": "code",
   "execution_count": 9,
   "metadata": {},
   "outputs": [],
   "source": [
    "\n",
    "\n",
    "\n",
    "def get_model_exp_iso_envelope(replicate, state, if_plot=False):\n",
    "    observable_residues = replicate.peptide.get_observable_residue_numbers()\n",
    "    t0_p_D = replicate.peptide.best_t0_replicate.isotope_envelope # non-deuterated isotope distribution\n",
    "\n",
    "    model_tp_raw_deut = []\n",
    "    for r in observable_residues:\n",
    "        model_tp_raw_deut.append(state.residue_incorporations[replicate.peptide.get_dataset()][r][replicate.timepoint.time])\n",
    "    model_tp_raw_deut = np.array(model_tp_raw_deut)\n",
    "\n",
    "    # To do: Full-D correction\n",
    "    model_tp_raw_deut = model_tp_raw_deut*(replicate.peptide.max_d/replicate.peptide.num_observable_amides) * 100\n",
    "\n",
    "    # model isotope distribution\n",
    "    mpdel_p_D = tools.event_probabilities(model_tp_raw_deut) # deturium isotope distribution\n",
    "    mpdel_full_iso = np.convolve(mpdel_p_D, t0_p_D) # full heavy isotope distribution\n",
    "\n",
    "    replicate_likelihood = state.scoring_function.forward_model.replicate_score(model=mpdel_full_iso, exp=replicate.isotope_envelope, sigma=replicate.timepoint.sigma) \n",
    "    #print('replicate_likelihood', replicate_likelihood )\n",
    "\n",
    "\n",
    "    if if_plot:\n",
    "        plt.stem(mpdel_full_iso, linefmt='r-', markerfmt='ro', basefmt='r-', label='model')\n",
    "        plt.stem(replicate.isotope_envelope, linefmt='k-', markerfmt='ko', basefmt='k-', label='exp')\n",
    "        plt.legend()\n",
    "\n",
    "    return replicate_likelihood, mpdel_full_iso, replicate.isotope_envelope"
   ]
  },
  {
   "cell_type": "code",
   "execution_count": 10,
   "metadata": {},
   "outputs": [],
   "source": [
    "all_reps = [rep for pep in dataset.peptides for tp in pep.timepoints for rep in tp.replicates]\n",
    "all_reps_likelihood_rep_pair = np.array([(rep, get_model_exp_iso_envelope(rep, state, if_plot=False)[0]) for rep in all_reps])"
   ]
  },
  {
   "cell_type": "code",
   "execution_count": 11,
   "metadata": {},
   "outputs": [],
   "source": [
    "all_ae = []\n",
    "all_reps_ae_rep_pair = []\n",
    "for rep in all_reps:\n",
    "    likehood, model_iso, exp_iso = get_model_exp_iso_envelope(rep, state, if_plot=False)\n",
    "    ae = tools.get_sum_ae(model_iso, exp_iso)\n",
    "    all_ae.append(ae)\n",
    "    all_reps_ae_rep_pair.append((rep, ae))\n",
    "\n",
    "all_mse = np.array(all_ae)"
   ]
  },
  {
   "cell_type": "code",
   "execution_count": 12,
   "metadata": {},
   "outputs": [],
   "source": [
    "all_reps_ae_rep_pair.sort(key=lambda x: x[1])\n",
    "all_reps_ae_rep_pair = np.array(all_reps_ae_rep_pair)"
   ]
  },
  {
   "cell_type": "code",
   "execution_count": 14,
   "metadata": {},
   "outputs": [
    {
     "data": {
      "text/plain": [
       "(array([253., 106., 237., 273., 279., 287., 389., 346., 394., 348., 274.,\n",
       "        190.,  56.,   7.,   3.,   4.,   0.,   0.,   0.,   1.]),\n",
       " array([0.        , 0.1553741 , 0.3107482 , 0.4661223 , 0.6214964 ,\n",
       "        0.7768705 , 0.93224461, 1.08761871, 1.24299281, 1.39836691,\n",
       "        1.55374101, 1.70911511, 1.86448921, 2.01986331, 2.17523741,\n",
       "        2.33061151, 2.48598562, 2.64135972, 2.79673382, 2.95210792,\n",
       "        3.10748202]),\n",
       " <BarContainer object of 20 artists>)"
      ]
     },
     "execution_count": 14,
     "metadata": {},
     "output_type": "execute_result"
    },
    {
     "data": {
      "image/png": "[encoded data removed]",
      "text/plain": [
       "<Figure size 640x480 with 1 Axes>"
      ]
     },
     "metadata": {},
     "output_type": "display_data"
    }
   ],
   "source": [
    "plt.hist(all_ae, bins=20)\n",
    "#plt.xlim(0,1.0)"
   ]
  },
  {
   "cell_type": "code",
   "execution_count": 15,
   "metadata": {},
   "outputs": [],
   "source": [
    "good_reps = [rep for rep, likelihood in all_reps_ae_rep_pair if likelihood < 1.0]\n",
    "bad_reps = [rep for rep, likelihood in all_reps_ae_rep_pair if likelihood > 1.5]"
   ]
  },
  {
   "cell_type": "code",
   "execution_count": null,
   "metadata": {},
   "outputs": [],
   "source": []
  },
  {
   "cell_type": "code",
   "execution_count": 16,
   "metadata": {},
   "outputs": [],
   "source": [
    "def get_identifer(pep):\n",
    "    idf = f'{pep.start_residue}-{pep.end_residue} {pep.sequence}'\n",
    "    return idf"
   ]
  },
  {
   "cell_type": "code",
   "execution_count": 17,
   "metadata": {},
   "outputs": [
    {
     "data": {
      "text/plain": [
       "['12-23 AVALSATVSANA  0.0',\n",
       " '13-20 VALSATVS  0.0',\n",
       " '26-31 KDTIAL  0.0',\n",
       " '31-36 LVVSTL  0.0']"
      ]
     },
     "execution_count": 17,
     "metadata": {},
     "output_type": "execute_result"
    }
   ],
   "source": [
    "[f\"{get_identifer(rep.peptide)}  {rep.timepoint.time}\" for rep in good_reps[:4]]"
   ]
  },
  {
   "cell_type": "code",
   "execution_count": 18,
   "metadata": {},
   "outputs": [
    {
     "data": {
      "text/plain": [
       "['129-140 DNVLGGKIAGDY  15360.0',\n",
       " '262-273 PDQIGAKGVETA  30.0',\n",
       " '32-41 VVSTLNNPFF  30.0',\n",
       " '35-43 TLNNPFFVS  3840.0']"
      ]
     },
     "execution_count": 18,
     "metadata": {},
     "output_type": "execute_result"
    }
   ],
   "source": [
    "[f\"{get_identifer(rep.peptide)}  {rep.timepoint.time}\" for rep in bad_reps[:4]]"
   ]
  },
  {
   "cell_type": "code",
   "execution_count": 190,
   "metadata": {},
   "outputs": [
    {
     "name": "stdout",
     "output_type": "stream",
     "text": [
      "0.1457518761192673\n"
     ]
    },
    {
     "data": {
      "image/png": "[encoded data removed]",
      "text/plain": [
       "<Figure size 640x480 with 1 Axes>"
      ]
     },
     "metadata": {},
     "output_type": "display_data"
    }
   ],
   "source": [
    "# good fitting\n",
    "\n",
    "likehood, model_iso, exp_iso =  get_model_exp_iso_envelope(all_reps_ae_rep_pair[250, 0], state, if_plot=True)\n",
    "print(tools.get_sum_ae(model_iso, exp_iso))"
   ]
  },
  {
   "cell_type": "code",
   "execution_count": 89,
   "metadata": {},
   "outputs": [
    {
     "data": {
      "text/plain": [
       "[15360.0,\n",
       " 3840.0,\n",
       " 7680.0,\n",
       " 480.0,\n",
       " 960.0,\n",
       " 1920.0,\n",
       " 1920.0,\n",
       " 30.0,\n",
       " 960.0,\n",
       " 3840.0,\n",
       " 7680.0,\n",
       " 1920.0,\n",
       " 0.0,\n",
       " 480.0,\n",
       " 3840.0,\n",
       " 120.0,\n",
       " 7680.0,\n",
       " 960.0,\n",
       " 480.0,\n",
       " 1920.0,\n",
       " 960.0,\n",
       " 0.0,\n",
       " 0.0,\n",
       " 30.0,\n",
       " 15360.0,\n",
       " 0.0,\n",
       " 960.0,\n",
       " 0.0,\n",
       " 7680.0,\n",
       " 3840.0,\n",
       " 480.0,\n",
       " 0.0,\n",
       " 3840.0,\n",
       " 960.0,\n",
       " 7680.0,\n",
       " 0.0,\n",
       " 15360.0,\n",
       " 30.0,\n",
       " 15360.0,\n",
       " 30.0,\n",
       " 0.0,\n",
       " 3840.0,\n",
       " 0.0,\n",
       " 7680.0,\n",
       " 15360.0,\n",
       " 0.0,\n",
       " 0.0,\n",
       " 0.0,\n",
       " 15360.0,\n",
       " 0.0]"
      ]
     },
     "execution_count": 89,
     "metadata": {},
     "output_type": "execute_result"
    }
   ],
   "source": [
    "[i.timepoint.time for i in  all_reps_ae_rep_pair[250:300, 0]]"
   ]
  },
  {
   "cell_type": "code",
   "execution_count": 59,
   "metadata": {},
   "outputs": [
    {
     "data": {
      "text/plain": [
       "(3447, 2)"
      ]
     },
     "execution_count": 59,
     "metadata": {},
     "output_type": "execute_result"
    }
   ],
   "source": [
    "all_reps_ae_rep_pair.shape"
   ]
  },
  {
   "cell_type": "code",
   "execution_count": 76,
   "metadata": {},
   "outputs": [
    {
     "name": "stdout",
     "output_type": "stream",
     "text": [
      "1.164246677569739\n"
     ]
    },
    {
     "data": {
      "image/png": "[encoded data removed]",
      "text/plain": [
       "<Figure size 640x480 with 1 Axes>"
      ]
     },
     "metadata": {},
     "output_type": "display_data"
    }
   ],
   "source": [
    "# bad fitting\n",
    "likehood, model_iso, exp_iso  = get_model_exp_iso_envelope(all_reps_ae_rep_pair[2000, 0], state, if_plot=True)\n",
    "print(tools.get_sum_ae(model_iso, exp_iso))"
   ]
  },
  {
   "cell_type": "code",
   "execution_count": 184,
   "metadata": {},
   "outputs": [],
   "source": [
    "a_bad_rep = all_reps_ae_rep_pair[2000, 0]\n",
    "a_bad_rep.isotope_envelope\n",
    "\n",
    "a_good_rep = all_reps_ae_rep_pair[0, 0]"
   ]
  },
  {
   "cell_type": "code",
   "execution_count": 185,
   "metadata": {},
   "outputs": [],
   "source": [
    "def plot_ms_of_all_charge_states(rep):\n",
    "    colors = ['r', 'b', 'g']\n",
    "    for ii,i in enumerate(rep.timepoint.replicates):\n",
    "        plt.stem(i.raw_ms['m/z']*i.charge_state, i.raw_ms['Intensity'],f\"{colors[ii]}\", label=f'charge {i.charge_state}')\n",
    "\n",
    "        print(np.sum(np.multiply(i.isotope_envelope, np.array([i for i in range(len(i.isotope_envelope))]))))\n",
    "    plt.legend()"
   ]
  },
  {
   "cell_type": "code",
   "execution_count": 186,
   "metadata": {},
   "outputs": [
    {
     "name": "stdout",
     "output_type": "stream",
     "text": [
      "3.2058407836648373\n",
      "3.1596653423072154\n"
     ]
    },
    {
     "data": {
      "image/png": "[encoded data removed]",
      "text/plain": [
       "<Figure size 640x480 with 1 Axes>"
      ]
     },
     "metadata": {},
     "output_type": "display_data"
    }
   ],
   "source": [
    "plot_ms_of_all_charge_states(a_bad_rep)"
   ]
  },
  {
   "cell_type": "code",
   "execution_count": 187,
   "metadata": {},
   "outputs": [
    {
     "data": {
      "text/plain": [
       "<StemContainer object of 3 artists>"
      ]
     },
     "execution_count": 187,
     "metadata": {},
     "output_type": "execute_result"
    },
    {
     "data": {
      "image/png": "[encoded data removed]",
      "text/plain": [
       "<Figure size 640x480 with 1 Axes>"
      ]
     },
     "metadata": {},
     "output_type": "display_data"
    }
   ],
   "source": [
    "plt.stem(a_bad_rep.timepoint.replicates[0].isotope_envelope)\n",
    "plt.stem(a_bad_rep.timepoint.replicates[1].isotope_envelope, 'r')"
   ]
  },
  {
   "cell_type": "code",
   "execution_count": 160,
   "metadata": {},
   "outputs": [
    {
     "data": {
      "text/plain": [
       "'183-189 ASQPADF'"
      ]
     },
     "execution_count": 160,
     "metadata": {},
     "output_type": "execute_result"
    }
   ],
   "source": [
    "get_identifer(a_bad_rep.peptide)"
   ]
  },
  {
   "cell_type": "code",
   "execution_count": 165,
   "metadata": {},
   "outputs": [
    {
     "data": {
      "text/plain": [
       "3840.0"
      ]
     },
     "execution_count": 165,
     "metadata": {},
     "output_type": "execute_result"
    }
   ],
   "source": [
    "a_bad_rep.timepoint.time"
   ]
  },
  {
   "cell_type": "code",
   "execution_count": 33,
   "metadata": {},
   "outputs": [
    {
     "data": {
      "text/html": [
       "<div>\n",
       "<style scoped>\n",
       "    .dataframe tbody tr th:only-of-type {\n",
       "        vertical-align: middle;\n",
       "    }\n",
       "\n",
       "    .dataframe tbody tr th {\n",
       "        vertical-align: top;\n",
       "    }\n",
       "\n",
       "    .dataframe thead th {\n",
       "        text-align: right;\n",
       "    }\n",
       "</style>\n",
       "<table border=\"1\" class=\"dataframe\">\n",
       "  <thead>\n",
       "    <tr style=\"text-align: right;\">\n",
       "      <th></th>\n",
       "      <th>m/z</th>\n",
       "      <th>Intensity</th>\n",
       "    </tr>\n",
       "  </thead>\n",
       "  <tbody>\n",
       "    <tr>\n",
       "      <th>count</th>\n",
       "      <td>4260.000000</td>\n",
       "      <td>4.260000e+03</td>\n",
       "    </tr>\n",
       "    <tr>\n",
       "      <th>mean</th>\n",
       "      <td>741.423776</td>\n",
       "      <td>3.163981e+04</td>\n",
       "    </tr>\n",
       "    <tr>\n",
       "      <th>std</th>\n",
       "      <td>4.061200</td>\n",
       "      <td>3.710491e+05</td>\n",
       "    </tr>\n",
       "    <tr>\n",
       "      <th>min</th>\n",
       "      <td>734.403200</td>\n",
       "      <td>0.000000e+00</td>\n",
       "    </tr>\n",
       "    <tr>\n",
       "      <th>25%</th>\n",
       "      <td>737.906500</td>\n",
       "      <td>0.000000e+00</td>\n",
       "    </tr>\n",
       "    <tr>\n",
       "      <th>50%</th>\n",
       "      <td>741.418250</td>\n",
       "      <td>0.000000e+00</td>\n",
       "    </tr>\n",
       "    <tr>\n",
       "      <th>75%</th>\n",
       "      <td>744.938225</td>\n",
       "      <td>0.000000e+00</td>\n",
       "    </tr>\n",
       "    <tr>\n",
       "      <th>max</th>\n",
       "      <td>748.466600</td>\n",
       "      <td>1.002347e+07</td>\n",
       "    </tr>\n",
       "  </tbody>\n",
       "</table>\n",
       "</div>"
      ],
      "text/plain": [
       "               m/z     Intensity\n",
       "count  4260.000000  4.260000e+03\n",
       "mean    741.423776  3.163981e+04\n",
       "std       4.061200  3.710491e+05\n",
       "min     734.403200  0.000000e+00\n",
       "25%     737.906500  0.000000e+00\n",
       "50%     741.418250  0.000000e+00\n",
       "75%     744.938225  0.000000e+00\n",
       "max     748.466600  1.002347e+07"
      ]
     },
     "execution_count": 33,
     "metadata": {},
     "output_type": "execute_result"
    }
   ],
   "source": [
    "a_bad_rep.timepoint.replicates[0].raw_ms.describe()"
   ]
  },
  {
   "cell_type": "code",
   "execution_count": 34,
   "metadata": {},
   "outputs": [
    {
     "data": {
      "text/html": [
       "<div>\n",
       "<style scoped>\n",
       "    .dataframe tbody tr th:only-of-type {\n",
       "        vertical-align: middle;\n",
       "    }\n",
       "\n",
       "    .dataframe tbody tr th {\n",
       "        vertical-align: top;\n",
       "    }\n",
       "\n",
       "    .dataframe thead th {\n",
       "        text-align: right;\n",
       "    }\n",
       "</style>\n",
       "<table border=\"1\" class=\"dataframe\">\n",
       "  <thead>\n",
       "    <tr style=\"text-align: right;\">\n",
       "      <th></th>\n",
       "      <th>m/z</th>\n",
       "      <th>Intensity</th>\n",
       "    </tr>\n",
       "  </thead>\n",
       "  <tbody>\n",
       "    <tr>\n",
       "      <th>count</th>\n",
       "      <td>3864.000000</td>\n",
       "      <td>3.864000e+03</td>\n",
       "    </tr>\n",
       "    <tr>\n",
       "      <th>mean</th>\n",
       "      <td>370.663863</td>\n",
       "      <td>6.093350e+04</td>\n",
       "    </tr>\n",
       "    <tr>\n",
       "      <th>std</th>\n",
       "      <td>2.604613</td>\n",
       "      <td>4.440736e+05</td>\n",
       "    </tr>\n",
       "    <tr>\n",
       "      <th>min</th>\n",
       "      <td>366.163400</td>\n",
       "      <td>0.000000e+00</td>\n",
       "    </tr>\n",
       "    <tr>\n",
       "      <th>25%</th>\n",
       "      <td>368.407925</td>\n",
       "      <td>0.000000e+00</td>\n",
       "    </tr>\n",
       "    <tr>\n",
       "      <th>50%</th>\n",
       "      <td>370.659300</td>\n",
       "      <td>0.000000e+00</td>\n",
       "    </tr>\n",
       "    <tr>\n",
       "      <th>75%</th>\n",
       "      <td>372.917500</td>\n",
       "      <td>0.000000e+00</td>\n",
       "    </tr>\n",
       "    <tr>\n",
       "      <th>max</th>\n",
       "      <td>375.182600</td>\n",
       "      <td>1.033548e+07</td>\n",
       "    </tr>\n",
       "  </tbody>\n",
       "</table>\n",
       "</div>"
      ],
      "text/plain": [
       "               m/z     Intensity\n",
       "count  3864.000000  3.864000e+03\n",
       "mean    370.663863  6.093350e+04\n",
       "std       2.604613  4.440736e+05\n",
       "min     366.163400  0.000000e+00\n",
       "25%     368.407925  0.000000e+00\n",
       "50%     370.659300  0.000000e+00\n",
       "75%     372.917500  0.000000e+00\n",
       "max     375.182600  1.033548e+07"
      ]
     },
     "execution_count": 34,
     "metadata": {},
     "output_type": "execute_result"
    }
   ],
   "source": [
    "a_bad_rep.timepoint.replicates[1].raw_ms.describe()"
   ]
  },
  {
   "cell_type": "code",
   "execution_count": 35,
   "metadata": {},
   "outputs": [
    {
     "data": {
      "text/plain": [
       "<StemContainer object of 3 artists>"
      ]
     },
     "execution_count": 35,
     "metadata": {},
     "output_type": "execute_result"
    },
    {
     "data": {
      "image/png": "[encoded data removed]",
      "text/plain": [
       "<Figure size 640x480 with 1 Axes>"
      ]
     },
     "metadata": {},
     "output_type": "display_data"
    }
   ],
   "source": [
    "plt.stem(a_bad_rep.peptide.best_t0_replicate.isotope_envelope)"
   ]
  },
  {
   "cell_type": "code",
   "execution_count": 237,
   "metadata": {},
   "outputs": [],
   "source": []
  },
  {
   "cell_type": "code",
   "execution_count": 285,
   "metadata": {},
   "outputs": [
    {
     "data": {
      "text/plain": [
       "10.719592"
      ]
     },
     "execution_count": 285,
     "metadata": {},
     "output_type": "execute_result"
    }
   ],
   "source": [
    "a_bad_rep.sn_ratio"
   ]
  },
  {
   "cell_type": "code",
   "execution_count": 36,
   "metadata": {},
   "outputs": [],
   "source": [
    "sn_ratio_list = []\n",
    "low_sn_ratio_reps = []\n",
    "for rep in all_reps_ae_rep_pair[:, 0]:\n",
    "    iso = tools.get_isotope_envelope(rep)\n",
    "    sn_ratio_list.append(iso.mean()['sn_ratio'])\n",
    "    if iso.mean()['sn_ratio'] < 10:\n",
    "        low_sn_ratio_reps.append(rep)\n",
    "    #print(iso.mean()['sn_ratio'])"
   ]
  },
  {
   "cell_type": "code",
   "execution_count": 39,
   "metadata": {},
   "outputs": [
    {
     "data": {
      "text/plain": [
       "(array([ 58., 108., 252., 476., 544., 532., 463., 287., 236., 162., 128.,\n",
       "         91.,  52.,  22.,  18.,   7.,   2.,   5.,   1.,   3.]),\n",
       " array([ 13.57453251,  21.37244697,  29.17036142,  36.96827588,\n",
       "         44.76619034,  52.5641048 ,  60.36201925,  68.15993371,\n",
       "         75.95784817,  83.75576262,  91.55367708,  99.35159154,\n",
       "        107.149506  , 114.94742045, 122.74533491, 130.54324937,\n",
       "        138.34116383, 146.13907828, 153.93699274, 161.7349072 ,\n",
       "        169.53282166]),\n",
       " <BarContainer object of 20 artists>)"
      ]
     },
     "execution_count": 39,
     "metadata": {},
     "output_type": "execute_result"
    },
    {
     "data": {
      "image/png": "[encoded data removed]",
      "text/plain": [
       "<Figure size 640x480 with 1 Axes>"
      ]
     },
     "metadata": {},
     "output_type": "display_data"
    }
   ],
   "source": [
    "plt.hist(sn_ratio_list, bins=20)"
   ]
  },
  {
   "cell_type": "code",
   "execution_count": null,
   "metadata": {},
   "outputs": [],
   "source": []
  },
  {
   "cell_type": "code",
   "execution_count": null,
   "metadata": {},
   "outputs": [],
   "source": []
  }
 ],
 "metadata": {
  "kernelspec": {
   "display_name": "openmm",
   "language": "python",
   "name": "python3"
  },
  "language_info": {
   "codemirror_mode": {
    "name": "ipython",
    "version": 3
   },
   "file_extension": ".py",
   "mimetype": "text/x-python",
   "name": "python",
   "nbconvert_exporter": "python",
   "pygments_lexer": "ipython3",
   "version": "3.10.12"
  }
 },
 "nbformat": 4,
 "nbformat_minor": 2
}
