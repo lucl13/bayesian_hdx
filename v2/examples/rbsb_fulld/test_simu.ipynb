{
 "cells": [
  {
   "cell_type": "code",
   "execution_count": 10,
   "metadata": {},
   "outputs": [],
   "source": [
    "bayesian_hdx_dir = '../../pyext/src'\n",
    "\n",
    "import sys\n",
    "sys.path.append(bayesian_hdx_dir)\n",
    "import scoring, sampling, system, model, hxio, tools, analysis\n",
    "\n",
    "#from pyopenms import *\"\"\n",
    "import pandas as pd\n",
    "\n",
    "import seaborn as sns\n",
    "import matplotlib.pyplot as plt\n",
    "import numpy as np"
   ]
  },
  {
   "cell_type": "code",
   "execution_count": 11,
   "metadata": {},
   "outputs": [],
   "source": [
    "sequence = \"MNMKKLATLVSAVALSATVSANAMAKDTIALVVSTLNNPFFVSLKDGAQKEADKLGYNLVVLDSQNNPAKELANVQDLTVRGTKILLINPTDSDAVGNAVKMANQANIPVITLDRQATKGEVVSHIASDNVLGGKIAGDYIAKKAGEGAKVIELQGIAGTSAARERGEGFQQAVAAHKFNVLASQPADFDRIKGLNVMQNLLTAHPDVQAVFAQNDEMALGALRALQTAGKSDVMVVGFDGTPDGEKAVNDGKLAATIAQLPDQIGAKGVETADKVLKGEKVQAKYPVDLKLVVKQ\"\n",
    "\n",
    "infile = \"./data/bayesian_hdx_RBSB_1018_APO.dat\""
   ]
  },
  {
   "cell_type": "code",
   "execution_count": 12,
   "metadata": {},
   "outputs": [
    {
     "name": "stderr",
     "output_type": "stream",
     "text": [
      "/home/chenlin/Documents/research_git/bayesian_hdx/v2/examples/rbsb_fulld/../../pyext/src/data.py:139: RuntimeWarning: divide by zero encountered in scalar divide\n",
      "  fastest_logk = numpy.log10(-numpy.log(threshold)/first_time_point)\n"
     ]
    },
    {
     "name": "stdout",
     "output_type": "stream",
     "text": [
      "Standard Conditions used.  Please modify these in the script if you are not at 293K and pH=7\n"
     ]
    },
    {
     "name": "stderr",
     "output_type": "stream",
     "text": [
      "  0%|          | 0/129 [00:00<?, ?it/s]"
     ]
    },
    {
     "name": "stderr",
     "output_type": "stream",
     "text": [
      "100%|██████████| 129/129 [00:10<00:00, 11.92it/s]\n"
     ]
    },
    {
     "name": "stdout",
     "output_type": "stream",
     "text": [
      "Done loading raw MS data.\n",
      "Set score for 280 t0 replicates\n",
      "num of tps before refining:  1161\n",
      "Refining dataset...\n",
      "LVVSTLNNPFFVS 30.0 removed\n",
      "LVVSTLNNPFFVS 1920.0 removed\n",
      "LVVSTLNNPFFVS 7680.0 removed\n",
      "LVVSTLNNPFFVSL 30.0 removed\n",
      "LVVSTLNNPFFVSL 1920.0 removed\n",
      "LVVSTLNNPFFVSL 7680.0 removed\n",
      "VVSTLNNPFFVSL 30.0 removed\n",
      "VVSTLNNPFFVSL 480.0 removed\n",
      "VVSTLNNPFFVSL 1920.0 removed\n",
      "VVSTLNNPFFVSL 7680.0 removed\n",
      "TLNNPFFVSL 30.0 removed\n",
      "TLNNPFFVSL 480.0 removed\n",
      "TLNNPFFVSL 3840.0 removed\n",
      "TLNNPFFVSL 15360.0 removed\n",
      "VSLKDGAQKEADKLGYNL 30.0 removed\n",
      "AQKEADKLGYN 30.0 removed\n",
      "AQKEADKLGYN 7680.0 removed\n",
      "VVLDSQNNPAKELANVQDL 30.0 removed\n",
      "VVLDSQNNPAKELANVQDL 1920.0 removed\n",
      "VVLDSQNNPAKELANVQDL 7680.0 removed\n",
      "DSQNNPAKELANVQDL 30.0 removed\n",
      "DSQNNPAKELANVQDL 7680.0 removed\n",
      "NNPAKELANVQ 30.0 removed\n",
      "NNPAKELANVQ 15360.0 removed\n",
      "NNPAKELANVQDLTVRGTK 30.0 removed\n",
      "NNPAKELANVQDLTVRGTK 1920.0 removed\n",
      "NNPAKELANVQDLTVRGTK 7680.0 removed\n",
      "ELANVQDL 30.0 removed\n",
      "ANVQDLTVRGTKIL 30.0 removed\n",
      "ANVQDLTVRGTKIL 7680.0 removed\n",
      "VQDLTVRGTKIL 30.0 removed\n",
      "ILLINPTDSDAVGNAVK 30.0 removed\n",
      "INPTDSDAVGNA 30.0 removed\n",
      "PTDSDAVGNAVKMA 0.0 removed\n",
      "VGNAVKMANQANI 30.0 removed\n",
      "VGNAVKMANQANI 1920.0 removed\n",
      "VKMANQANIPVITL 30.0 removed\n",
      "ANQANIPVITL 30.0 removed\n",
      "QANIPVITLDR 30.0 removed\n",
      "DNVLGGKIAGDY 30.0 removed\n",
      "DNVLGGKIAGDY 15360.0 removed\n",
      "GIAGTSAARERGEGFQQ 30.0 removed\n",
      "GIAGTSAARERGEGFQQ 7680.0 removed\n",
      "IAGTSAARERGEGFQQ 30.0 removed\n",
      "IAGTSAARERGEGFQQ 3840.0 removed\n",
      "IAGTSAARERGEGFQQ 15360.0 removed\n",
      "EGFQQAVAAHKF 7680.0 removed\n",
      "EGFQQAVAAHKFNVL 3840.0 removed\n",
      "EGFQQAVAAHKFNVL 15360.0 removed\n",
      "KGLNVMQNLLTAH 30.0 removed\n",
      "KGLNVMQNLLTAHPDVQA 30.0 removed\n",
      "NVMQNLLTA 30.0 removed\n",
      "NVMQNLLTAHPDVQAVF 30.0 removed\n",
      "NVMQNLLTAHPDVQAVF 15360.0 removed\n",
      "QNLLTAHPDVQ 30.0 removed\n",
      "LLTAHPDVQAVF 30.0 removed\n",
      "LLTAHPDVQAVF 7680.0 removed\n",
      "AQNDEMALGAL 30.0 removed\n",
      "AQNDEMALGAL 7680.0 removed\n",
      "ALQTAGKSDVM 30.0 removed\n",
      "GKSDVMVVGF 0.0 removed\n",
      "GKSDVMVVGF 120.0 removed\n",
      "GKSDVMVVGF 960.0 removed\n",
      "GKSDVMVVGF 3840.0 removed\n",
      "GKSDVMVVGF 15360.0 removed\n",
      "KSDVMVVGFDGTPDGEK 30.0 removed\n",
      "KSDVMVVGFDGTPDGEK 1920.0 removed\n",
      "KSDVMVVGFDGTPDGEK 7680.0 removed\n",
      "KSDVMVVGFDGTPDGEKA 30.0 removed\n",
      "KSDVMVVGFDGTPDGEKA 1920.0 removed\n",
      "KSDVMVVGFDGTPDGEKA 7680.0 removed\n",
      "MVVGFDGTPDGEKAVN 30.0 removed\n",
      "MVVGFDGTPDGEKAVN 7680.0 removed\n",
      "MVVGFDGTPDGEKAVNDGKL 30.0 removed\n",
      "MVVGFDGTPDGEKAVNDGKLA 30.0 removed\n",
      "MVVGFDGTPDGEKAVNDGKLA 1920.0 removed\n",
      "MVVGFDGTPDGEKAVNDGKLA 7680.0 removed\n",
      "VVGFDGTPDGEKAVNDGKL 30.0 removed\n",
      "VVGFDGTPDGEKAVNDGKL 1920.0 removed\n",
      "VVGFDGTPDGEKAVNDGKL 7680.0 removed\n",
      "VGFDGTPDGEK 1920.0 removed\n",
      "VGFDGTPDGEK 7680.0 removed\n",
      "DGTPDGEKAVNDGKLA 30.0 removed\n",
      "DGTPDGEKAVNDGKLAA 30.0 removed\n",
      "DGTPDGEKAVNDGKLAATIAQ 30.0 removed\n",
      "DGTPDGEKAVNDGKLAATIAQ 15360.0 removed\n",
      "ATIAQLPDQIGAKGVETADK 30.0 removed\n",
      "ATIAQLPDQIGAKGVETADK 1920.0 removed\n",
      "ATIAQLPDQIGAKGVETADK 7680.0 removed\n",
      "TIAQLPDQIGA 30.0 removed\n",
      "TIAQLPDQIGAKGVETADK 30.0 removed\n",
      "VQAKYPVDLK 30.0 removed\n",
      "PTDSDAVGNAVKMA removed\n",
      "GKSDVMVVGF removed\n",
      "num of tps after refining:  1057\n"
     ]
    },
    {
     "data": {
      "text/plain": [
       "<data.Dataset at 0x7f1603c40be0>"
      ]
     },
     "execution_count": 12,
     "metadata": {},
     "output_type": "execute_result"
    }
   ],
   "source": [
    "dataset = hxio.import_HXcolumns(infile,\n",
    "                                sequence,\n",
    "                                name=\"APO\",\n",
    "                                percentD=True,\n",
    "                                conditions=None,\n",
    "                                error_estimate=0.5,\n",
    "                                n_fastamides=0,\n",
    "                                offset=0)\n",
    "\n",
    "\n",
    "raw_spectra_path = '../rbsb/SpecExport_1018'\n",
    "\n",
    "hxio.load_raw_ms_to_hdxms_data(dataset, raw_spectra_path)\n",
    "\n",
    "tools.set_t0_rep_score(dataset)\n",
    "tools.refine_dataset(dataset)"
   ]
  },
  {
   "cell_type": "code",
   "execution_count": 13,
   "metadata": {},
   "outputs": [],
   "source": [
    "pep = dataset.peptides[0]"
   ]
  },
  {
   "cell_type": "code",
   "execution_count": 14,
   "metadata": {},
   "outputs": [
    {
     "data": {
      "text/plain": [
       "6"
      ]
     },
     "execution_count": 14,
     "metadata": {},
     "output_type": "execute_result"
    }
   ],
   "source": [
    "pep.num_observable_amides"
   ]
  },
  {
   "cell_type": "code",
   "execution_count": 15,
   "metadata": {},
   "outputs": [
    {
     "name": "stdout",
     "output_type": "stream",
     "text": [
      "DS ./output_test\n"
     ]
    },
    {
     "name": "stderr",
     "output_type": "stream",
     "text": [
      "/home/chenlin/Documents/research_git/bayesian_hdx/v2/examples/rbsb_fulld/../../pyext/src/data.py:139: RuntimeWarning: divide by zero encountered in scalar divide\n",
      "  fastest_logk = numpy.log10(-numpy.log(threshold)/first_time_point)\n"
     ]
    },
    {
     "data": {
      "text/plain": [
       "<model.ResidueGridModel at 0x7f171370fe80>"
      ]
     },
     "execution_count": 15,
     "metadata": {},
     "output_type": "execute_result"
    }
   ],
   "source": [
    "# Initialize model\n",
    "state_name = \"test_run\"\n",
    "outputdir = \"./output_test\"\n",
    "num_exp_bins = 14\n",
    "nsteps =1000\n",
    "sys = system.System(output_dir=outputdir, noclobber=False)\n",
    "mol = sys.add_macromolecule(sequence, \"Test\", initialize_apo=False)\n",
    "\n",
    "\n",
    "# Add states\n",
    "if state_name is None:\n",
    "    raise ValueError(\"Must provide a state name\")\n",
    "state = mol.add_state(f\"{state_name}_1\")\n",
    "state.scoring_function = scoring.ScoringFunction(scoring.GaussianNoiseModelIsotope(state, truncated=False,)) \n",
    "state2 = mol.add_state(f\"{state_name}_2\")\n",
    "state2.scoring_function = scoring.ScoringFunction(scoring.GaussianNoiseModelIsotope(state, truncated=False)) \n",
    "\n",
    "# Add data to molecule state\n",
    "state.add_dataset(dataset)\n",
    "state2.add_dataset(dataset)\n",
    "\n",
    "sys.output.write_datasets()\n",
    "\n",
    "output_model = model.ResidueGridModel(state, grid_size=num_exp_bins)\n",
    "state.set_output_model(output_model)\n",
    "state2.set_output_model(output_model)\n",
    "\n"
   ]
  },
  {
   "cell_type": "code",
   "execution_count": 16,
   "metadata": {},
   "outputs": [
    {
     "data": {
      "text/plain": [
       "False"
      ]
     },
     "execution_count": 16,
     "metadata": {},
     "output_type": "execute_result"
    }
   ],
   "source": [
    "output_model.protection_factors"
   ]
  },
  {
   "cell_type": "code",
   "execution_count": 17,
   "metadata": {},
   "outputs": [
    {
     "name": "stdout",
     "output_type": "stream",
     "text": [
      "Unexpected exception formatting exception. Falling back to standard exception\n"
     ]
    },
    {
     "name": "stderr",
     "output_type": "stream",
     "text": [
      "Traceback (most recent call last):\n",
      "  File \"/home/chenlin/anaconda3/envs/MD/lib/python3.10/site-packages/IPython/core/interactiveshell.py\", line 3526, in run_code\n",
      "    exec(code_obj, self.user_global_ns, self.user_ns)\n",
      "  File \"/tmp/ipykernel_128232/4149460635.py\", line 1, in <module>\n",
      "    sampler = sampling.MCSampler(sys, pct_moves=20, sigma_sample_level=None)\n",
      "  File \"/home/chenlin/Documents/research_git/bayesian_hdx/v2/examples/rbsb_fulld/../../pyext/src/sampling.py\", line 222, in __init__\n",
      "    s.initialize()\n",
      "  File \"/home/chenlin/Documents/research_git/bayesian_hdx/v2/examples/rbsb_fulld/../../pyext/src/system.py\", line 468, in initialize\n",
      "    self.calculate_peptides_score(self.get_all_peptides(), self.output_model.model_protection_factors)\n",
      "  File \"/home/chenlin/Documents/research_git/bayesian_hdx/v2/examples/rbsb_fulld/../../pyext/src/system.py\", line 485, in calculate_peptides_score\n",
      "    return self.scoring_function.evaluate(protection_factors, peptides)\n",
      "  File \"/home/chenlin/Documents/research_git/bayesian_hdx/v2/examples/rbsb_fulld/../../pyext/src/scoring.py\", line 43, in evaluate\n",
      "    total_score = self.forward_model.evaluate(model_values, peptides)\n",
      "  File \"/home/chenlin/Documents/research_git/bayesian_hdx/v2/examples/rbsb_fulld/../../pyext/src/scoring.py\", line 447, in evaluate\n",
      "  File \"/home/chenlin/Documents/research_git/bayesian_hdx/v2/examples/rbsb_fulld/../../pyext/src/scoring.py\", line 418, in calculate_peptides_score\n",
      "    # Calculate a score for each replicate\n",
      "  File \"/home/chenlin/Documents/research_git/bayesian_hdx/v2/examples/rbsb_fulld/../../pyext/src/scoring.py\", line 359, in replicate_score\n",
      "    raw_likelihood *= 1/ ( 0.5 * ( scipy.special.erf( (self.upper_bound-exp)/sigma * math.sqrt(3.1415) ) - scipy.special.erf( (self.lower_bound-exp)/sigma * math.sqrt(3.1415) ) ) )\n",
      "UnboundLocalError: local variable 'raw_likelihood' referenced before assignment\n",
      "\n",
      "During handling of the above exception, another exception occurred:\n",
      "\n",
      "Traceback (most recent call last):\n",
      "  File \"/home/chenlin/anaconda3/envs/MD/lib/python3.10/site-packages/IPython/core/interactiveshell.py\", line 2120, in showtraceback\n",
      "    stb = self.InteractiveTB.structured_traceback(\n",
      "  File \"/home/chenlin/anaconda3/envs/MD/lib/python3.10/site-packages/IPython/core/ultratb.py\", line 1435, in structured_traceback\n",
      "    return FormattedTB.structured_traceback(\n",
      "  File \"/home/chenlin/anaconda3/envs/MD/lib/python3.10/site-packages/IPython/core/ultratb.py\", line 1326, in structured_traceback\n",
      "    return VerboseTB.structured_traceback(\n",
      "  File \"/home/chenlin/anaconda3/envs/MD/lib/python3.10/site-packages/IPython/core/ultratb.py\", line 1173, in structured_traceback\n",
      "    formatted_exception = self.format_exception_as_a_whole(etype, evalue, etb, number_of_lines_of_context,\n",
      "  File \"/home/chenlin/anaconda3/envs/MD/lib/python3.10/site-packages/IPython/core/ultratb.py\", line 1088, in format_exception_as_a_whole\n",
      "    frames.append(self.format_record(record))\n",
      "  File \"/home/chenlin/anaconda3/envs/MD/lib/python3.10/site-packages/IPython/core/ultratb.py\", line 970, in format_record\n",
      "    frame_info.lines, Colors, self.has_colors, lvals\n",
      "  File \"/home/chenlin/anaconda3/envs/MD/lib/python3.10/site-packages/IPython/core/ultratb.py\", line 792, in lines\n",
      "    return self._sd.lines\n",
      "  File \"/home/chenlin/anaconda3/envs/MD/lib/python3.10/site-packages/stack_data/utils.py\", line 144, in cached_property_wrapper\n",
      "    value = obj.__dict__[self.func.__name__] = self.func(obj)\n",
      "  File \"/home/chenlin/anaconda3/envs/MD/lib/python3.10/site-packages/stack_data/core.py\", line 734, in lines\n",
      "    pieces = self.included_pieces\n",
      "  File \"/home/chenlin/anaconda3/envs/MD/lib/python3.10/site-packages/stack_data/utils.py\", line 144, in cached_property_wrapper\n",
      "    value = obj.__dict__[self.func.__name__] = self.func(obj)\n",
      "  File \"/home/chenlin/anaconda3/envs/MD/lib/python3.10/site-packages/stack_data/core.py\", line 681, in included_pieces\n",
      "    pos = scope_pieces.index(self.executing_piece)\n",
      "  File \"/home/chenlin/anaconda3/envs/MD/lib/python3.10/site-packages/stack_data/utils.py\", line 144, in cached_property_wrapper\n",
      "    value = obj.__dict__[self.func.__name__] = self.func(obj)\n",
      "  File \"/home/chenlin/anaconda3/envs/MD/lib/python3.10/site-packages/stack_data/core.py\", line 660, in executing_piece\n",
      "    return only(\n",
      "  File \"/home/chenlin/anaconda3/envs/MD/lib/python3.10/site-packages/executing/executing.py\", line 190, in only\n",
      "    raise NotOneValueFound('Expected one value, found 0')\n",
      "executing.executing.NotOneValueFound: Expected one value, found 0\n"
     ]
    }
   ],
   "source": [
    "sampler = sampling.MCSampler(sys, pct_moves=20, sigma_sample_level=None)\n",
    "\n",
    "sys.output.initialize_output_model_file(state, output_model.pf_grids)\n",
    "sys.output.initialize_output_model_file(state2, output_model.pf_grids)\n",
    "\n",
    "\n",
    "annealing_steps=20 \n",
    "\n",
    "sampler.run(annealing_steps, 100, find_temperature=False)\n",
    "\n",
    "for i in range(5):\n",
    "    sampler.run(annealing_steps, 20, find_temperature=False)\n",
    "    sampler.run(200, 2, write=True, find_temperature=False)\n",
    "# for i in range(5):\n",
    "#     sampler.run(annealing_steps, 50, find_temperature=False)\n",
    "#     #sampler.residue_sampler.set_adjacency(True, 3)\n",
    "#     sampler.run(annealing_steps, 20, find_temperature=False)\n",
    "#     sampler.run(annealing_steps, 10, find_temperature=False)\n",
    "#     sampler.residue_sampler.set_adjacency(True, 4)\n",
    "#     sampler.run(annealing_steps, 5, find_temperature=False)\n",
    "#     # This temperature tends to sit around 15% MC acceptance rate, which seems to be good.\n",
    "#     sampler.run(nsteps, 2, write=True, find_temperature=False)\n",
    "#     sampler.run(20, 0.1, write=True, find_temperature=False)\n",
    "\n",
    "#pof = analysis.ParseOutputFile(outputdir + f\"/models_scores_sigmas-{state_name}_1.dat\")\n",
    "#pof2 = analysis.ParseOutputFile(outputdir + f\"/models_scores_sigmas-{state_name}_2.dat\")\n",
    "#pof.generate_datasets()\n",
    "#pof2.generate_datasets()\n",
    "#pof.calculate_random_sample_convergence()\n",
    "#pof2.calculate_random_sample_convergence()\n",
    "\n",
    "#conv = analysis.Convergence(pof, pof2)"
   ]
  },
  {
   "cell_type": "code",
   "execution_count": 32,
   "metadata": {},
   "outputs": [],
   "source": [
    "p1 = np.array([8.42911538e+01,1.82567165e+03,-3.78146503e+03,1.69027390e+03\n",
    ",4.41428676e+02,-5.48201114e+02,2.75498216e+02,1.34414665e+01\n",
    ",6.10636307e-02,1.99211337e-05,3.65281143e-10,1.36347030e-15])\n",
    "\n",
    "p2= np.array([0.01438017,0.14913024,0.19725778,0.04683114,0.3693501,0.04132925\n",
    ",0.11097312,0.05025508,0.02049313])"
   ]
  },
  {
   "cell_type": "code",
   "execution_count": 28,
   "metadata": {},
   "outputs": [],
   "source": [
    "p1 = np.abs(p1)"
   ]
  },
  {
   "cell_type": "code",
   "execution_count": 34,
   "metadata": {},
   "outputs": [
    {
     "name": "stdout",
     "output_type": "stream",
     "text": [
      "0\n"
     ]
    }
   ],
   "source": [
    "# num of the negative values\n",
    "print(np.sum(p2<0))"
   ]
  },
  {
   "cell_type": "code",
   "execution_count": 29,
   "metadata": {},
   "outputs": [],
   "source": [
    "x1, x2 = tools.norm_pad_two_arrays(p1, p2)"
   ]
  },
  {
   "cell_type": "code",
   "execution_count": 30,
   "metadata": {},
   "outputs": [
    {
     "data": {
      "text/plain": [
       "0.5755432594126196"
      ]
     },
     "execution_count": 30,
     "metadata": {},
     "output_type": "execute_result"
    }
   ],
   "source": [
    "tools.custom_kl_divergence(x1, x2)"
   ]
  },
  {
   "cell_type": "code",
   "execution_count": 18,
   "metadata": {},
   "outputs": [
    {
     "data": {
      "text/plain": [
       "nan"
      ]
     },
     "execution_count": 18,
     "metadata": {},
     "output_type": "execute_result"
    }
   ],
   "source": [
    "tools.get_divergence(p1, p2, method='KL')"
   ]
  },
  {
   "cell_type": "code",
   "execution_count": 9,
   "metadata": {},
   "outputs": [
    {
     "name": "stdout",
     "output_type": "stream",
     "text": [
      "[84.2911538, 1825.67165, -3781.46503, 1690.2739, 441.428676, -548.201114, 275.498216, 13.4414665, 0.0610636307, 1.99211337e-05, 3.65281143e-10, 1.3634703e-15] [0.01438017, 0.14913024, 0.19725778, 0.04683114, 0.3693501, 0.04132925, 0.11097312, 0.05025508, 0.02049313] 0.3\n"
     ]
    },
    {
     "ename": "TypingError",
     "evalue": "Failed in nopython mode pipeline (step: nopython frontend)\n\u001b[1m\u001b[1m\u001b[1m\u001b[1mFailed in nopython mode pipeline (step: nopython frontend)\n\u001b[1m\u001b[1m\u001b[1mNo implementation of function Function(<function sum at 0x7fa8d062ab00>) found for signature:\n \n >>> sum(reflected list(float64)<iv=None>)\n \nThere are 2 candidate implementations:\n\u001b[1m   - Of which 2 did not match due to:\n   Overload of function 'sum': File: numba/core/typing/npydecl.py: Line 373.\n     With argument(s): '(reflected list(float64)<iv=None>)':\u001b[0m\n\u001b[1m    No match.\u001b[0m\n\u001b[0m\n\u001b[0m\u001b[1mDuring: resolving callee type: Function(<function sum at 0x7fa8d062ab00>)\u001b[0m\n\u001b[0m\u001b[1mDuring: typing of call at /home/chenlin/Documents/research_git/bayesian_hdx/v2/examples/rbsb_fulld/../../pyext/src/tools.py (735)\n\u001b[0m\n\u001b[1m\nFile \"../../pyext/src/tools.py\", line 735:\u001b[0m\n\u001b[1mdef norm_pad_two_arrays(p, q):\n    <source elided>\n    '''\n\u001b[1m    x1 = p / np.sum(p)\n\u001b[0m    \u001b[1m^\u001b[0m\u001b[0m\n\n\u001b[0m\u001b[1mDuring: resolving callee type: type(CPUDispatcher(<function norm_pad_two_arrays at 0x7fa7f533f490>))\u001b[0m\n\u001b[0m\u001b[1mDuring: typing of call at /home/chenlin/Documents/research_git/bayesian_hdx/v2/examples/rbsb_fulld/../../pyext/src/tools.py (747)\n\u001b[0m\n\u001b[0m\u001b[1mDuring: resolving callee type: type(CPUDispatcher(<function norm_pad_two_arrays at 0x7fa7f533f490>))\u001b[0m\n\u001b[0m\u001b[1mDuring: typing of call at /home/chenlin/Documents/research_git/bayesian_hdx/v2/examples/rbsb_fulld/../../pyext/src/tools.py (747)\n\u001b[0m\n\u001b[1m\nFile \"../../pyext/src/tools.py\", line 747:\u001b[0m\n\u001b[1mdef get_divergence(p, q, method='KL'):\n    <source elided>\n    \n\u001b[1m    x1, x2 = norm_pad_two_arrays(p, q)\n\u001b[0m    \u001b[1m^\u001b[0m\u001b[0m\n",
     "output_type": "error",
     "traceback": [
      "\u001b[0;31m---------------------------------------------------------------------------\u001b[0m",
      "\u001b[0;31mTypingError\u001b[0m                               Traceback (most recent call last)",
      "\u001b[1;32m/home/chenlin/Documents/research_git/bayesian_hdx/v2/examples/rbsb_fulld/test_simu.ipynb Cell 7\u001b[0m line \u001b[0;36m1\n\u001b[0;32m----> <a href='vscode-notebook-cell:/home/chenlin/Documents/research_git/bayesian_hdx/v2/examples/rbsb_fulld/test_simu.ipynb#W5sZmlsZQ%3D%3D?line=0'>1</a>\u001b[0m state\u001b[39m.\u001b[39;49mscoring_function\u001b[39m.\u001b[39;49mforward_model\u001b[39m.\u001b[39;49mreplicate_score(p1,p2, \u001b[39m0.3\u001b[39;49m)\n",
      "File \u001b[0;32m~/Documents/research_git/bayesian_hdx/v2/examples/rbsb_fulld/../../pyext/src/scoring.py:354\u001b[0m, in \u001b[0;36mGaussianNoiseModelIsotope.replicate_score\u001b[0;34m(self, model, exp, sigma)\u001b[0m\n\u001b[1;32m    349\u001b[0m \u001b[39mdef\u001b[39;00m \u001b[39mreplicate_score\u001b[39m(\u001b[39mself\u001b[39m, model, exp, sigma):\n\u001b[1;32m    350\u001b[0m     \u001b[39m# Forward model\u001b[39;00m\n\u001b[1;32m    351\u001b[0m     \u001b[39m#priors = self.model_prior(protection_factor) * self.exp_prior(exp) * self.sigma_prior()\u001b[39;00m\n\u001b[1;32m    352\u001b[0m     \u001b[39m#raw_likelihood = math.exp(-(tools.get_mae(model, exp)**2)/(2*sigma**2))/(sigma*math.sqrt(2*numpy.pi))\u001b[39;00m\n\u001b[1;32m    353\u001b[0m     \u001b[39mprint\u001b[39m(model, exp, sigma)\n\u001b[0;32m--> 354\u001b[0m     raw_likelihood \u001b[39m=\u001b[39m math\u001b[39m.\u001b[39mexp(\u001b[39m-\u001b[39m(tools\u001b[39m.\u001b[39;49mget_divergence(model, exp, method\u001b[39m=\u001b[39;49m\u001b[39m'\u001b[39;49m\u001b[39mJS\u001b[39;49m\u001b[39m'\u001b[39;49m)\u001b[39m*\u001b[39m\u001b[39m*\u001b[39m\u001b[39m2\u001b[39m)\u001b[39m/\u001b[39m(\u001b[39m2\u001b[39m\u001b[39m*\u001b[39msigma\u001b[39m*\u001b[39m\u001b[39m*\u001b[39m\u001b[39m2\u001b[39m))\u001b[39m/\u001b[39m(sigma\u001b[39m*\u001b[39mmath\u001b[39m.\u001b[39msqrt(\u001b[39m2\u001b[39m\u001b[39m*\u001b[39mnumpy\u001b[39m.\u001b[39mpi))\n\u001b[1;32m    355\u001b[0m     \u001b[39m#raw_likelihood = math.exp(-(tools.get_sum_ae(model, exp)**2)/(2*sigma**2))/(sigma*math.sqrt(2*numpy.pi))\u001b[39;00m\n\u001b[1;32m    356\u001b[0m     \u001b[39m# if self.truncated:\u001b[39;00m\n\u001b[1;32m    357\u001b[0m     \u001b[39m#     raw_likelihood *= 1/ ( 0.5 * ( scipy.special.erf( (self.upper_bound-exp)/sigma * math.sqrt(3.1415) ) - scipy.special.erf( (self.lower_bound-exp)/sigma * math.sqrt(3.1415) ) ) )\u001b[39;00m\n\u001b[1;32m    359\u001b[0m     \u001b[39mreturn\u001b[39;00m raw_likelihood\n",
      "File \u001b[0;32m~/anaconda3/envs/MD/lib/python3.10/site-packages/numba/core/dispatcher.py:468\u001b[0m, in \u001b[0;36m_DispatcherBase._compile_for_args\u001b[0;34m(self, *args, **kws)\u001b[0m\n\u001b[1;32m    464\u001b[0m         msg \u001b[39m=\u001b[39m (\u001b[39mf\u001b[39m\u001b[39m\"\u001b[39m\u001b[39m{\u001b[39;00m\u001b[39mstr\u001b[39m(e)\u001b[39m.\u001b[39mrstrip()\u001b[39m}\u001b[39;00m\u001b[39m \u001b[39m\u001b[39m\\n\u001b[39;00m\u001b[39m\\n\u001b[39;00m\u001b[39mThis error may have been caused \u001b[39m\u001b[39m\"\u001b[39m\n\u001b[1;32m    465\u001b[0m                \u001b[39mf\u001b[39m\u001b[39m\"\u001b[39m\u001b[39mby the following argument(s):\u001b[39m\u001b[39m\\n\u001b[39;00m\u001b[39m{\u001b[39;00margs_str\u001b[39m}\u001b[39;00m\u001b[39m\\n\u001b[39;00m\u001b[39m\"\u001b[39m)\n\u001b[1;32m    466\u001b[0m         e\u001b[39m.\u001b[39mpatch_message(msg)\n\u001b[0;32m--> 468\u001b[0m     error_rewrite(e, \u001b[39m'\u001b[39;49m\u001b[39mtyping\u001b[39;49m\u001b[39m'\u001b[39;49m)\n\u001b[1;32m    469\u001b[0m \u001b[39mexcept\u001b[39;00m errors\u001b[39m.\u001b[39mUnsupportedError \u001b[39mas\u001b[39;00m e:\n\u001b[1;32m    470\u001b[0m     \u001b[39m# Something unsupported is present in the user code, add help info\u001b[39;00m\n\u001b[1;32m    471\u001b[0m     error_rewrite(e, \u001b[39m'\u001b[39m\u001b[39munsupported_error\u001b[39m\u001b[39m'\u001b[39m)\n",
      "File \u001b[0;32m~/anaconda3/envs/MD/lib/python3.10/site-packages/numba/core/dispatcher.py:409\u001b[0m, in \u001b[0;36m_DispatcherBase._compile_for_args.<locals>.error_rewrite\u001b[0;34m(e, issue_type)\u001b[0m\n\u001b[1;32m    407\u001b[0m     \u001b[39mraise\u001b[39;00m e\n\u001b[1;32m    408\u001b[0m \u001b[39melse\u001b[39;00m:\n\u001b[0;32m--> 409\u001b[0m     \u001b[39mraise\u001b[39;00m e\u001b[39m.\u001b[39mwith_traceback(\u001b[39mNone\u001b[39;00m)\n",
      "\u001b[0;31mTypingError\u001b[0m: Failed in nopython mode pipeline (step: nopython frontend)\n\u001b[1m\u001b[1m\u001b[1m\u001b[1mFailed in nopython mode pipeline (step: nopython frontend)\n\u001b[1m\u001b[1m\u001b[1mNo implementation of function Function(<function sum at 0x7fa8d062ab00>) found for signature:\n \n >>> sum(reflected list(float64)<iv=None>)\n \nThere are 2 candidate implementations:\n\u001b[1m   - Of which 2 did not match due to:\n   Overload of function 'sum': File: numba/core/typing/npydecl.py: Line 373.\n     With argument(s): '(reflected list(float64)<iv=None>)':\u001b[0m\n\u001b[1m    No match.\u001b[0m\n\u001b[0m\n\u001b[0m\u001b[1mDuring: resolving callee type: Function(<function sum at 0x7fa8d062ab00>)\u001b[0m\n\u001b[0m\u001b[1mDuring: typing of call at /home/chenlin/Documents/research_git/bayesian_hdx/v2/examples/rbsb_fulld/../../pyext/src/tools.py (735)\n\u001b[0m\n\u001b[1m\nFile \"../../pyext/src/tools.py\", line 735:\u001b[0m\n\u001b[1mdef norm_pad_two_arrays(p, q):\n    <source elided>\n    '''\n\u001b[1m    x1 = p / np.sum(p)\n\u001b[0m    \u001b[1m^\u001b[0m\u001b[0m\n\n\u001b[0m\u001b[1mDuring: resolving callee type: type(CPUDispatcher(<function norm_pad_two_arrays at 0x7fa7f533f490>))\u001b[0m\n\u001b[0m\u001b[1mDuring: typing of call at /home/chenlin/Documents/research_git/bayesian_hdx/v2/examples/rbsb_fulld/../../pyext/src/tools.py (747)\n\u001b[0m\n\u001b[0m\u001b[1mDuring: resolving callee type: type(CPUDispatcher(<function norm_pad_two_arrays at 0x7fa7f533f490>))\u001b[0m\n\u001b[0m\u001b[1mDuring: typing of call at /home/chenlin/Documents/research_git/bayesian_hdx/v2/examples/rbsb_fulld/../../pyext/src/tools.py (747)\n\u001b[0m\n\u001b[1m\nFile \"../../pyext/src/tools.py\", line 747:\u001b[0m\n\u001b[1mdef get_divergence(p, q, method='KL'):\n    <source elided>\n    \n\u001b[1m    x1, x2 = norm_pad_two_arrays(p, q)\n\u001b[0m    \u001b[1m^\u001b[0m\u001b[0m\n"
     ]
    }
   ],
   "source": [
    "state.scoring_function.forward_model.replicate_score(p1,p2, 0.3)"
   ]
  },
  {
   "cell_type": "code",
   "execution_count": 8,
   "metadata": {},
   "outputs": [
    {
     "data": {
      "text/plain": [
       "array([ 6.42308967e-03, -5.74125946e-01,  1.16404636e+00,  3.70208828e-01,\n",
       "        3.26523604e-02,  7.95273983e-04,  3.90975387e-08,  1.03964237e-13,\n",
       "        5.55773690e-20,  5.06215064e-27,  2.27193746e-35])"
      ]
     },
     "execution_count": 8,
     "metadata": {},
     "output_type": "execute_result"
    }
   ],
   "source": [
    "model."
   ]
  },
  {
   "cell_type": "code",
   "execution_count": 7,
   "metadata": {},
   "outputs": [],
   "source": [
    "for pep in dataset.peptides:\n",
    "    if pep.sequence == 'HKFNVL':\n",
    "        for tp in pep.timepoints:\n",
    "            if tp.time == 30.0:\n",
    "                for rep in tp.replicates:\n",
    "                    if rep.charge_state == 2:\n",
    "                        break"
   ]
  },
  {
   "cell_type": "code",
   "execution_count": 8,
   "metadata": {},
   "outputs": [],
   "source": [
    "import pyopenms as oms\n",
    "\n",
    "def get_isotope_envelope(replicate):\n",
    "    #print(f'{replicate.peptide.sequence} {replicate.timepoint.time} {replicate.charge_state}')\n",
    "    # Step 1: Centroiding\n",
    "    seq = oms.AASequence.fromString(replicate.peptide.sequence) \n",
    "    mfull = seq.getMonoWeight()\n",
    "    mz_values = replicate.raw_ms['m/z'].values - mfull/float(replicate.charge_state)\n",
    "    intensities = replicate.raw_ms['Intensity'].values \n",
    "\n",
    "    spectrum = oms.MSSpectrum()\n",
    "    spectrum.set_peaks((mz_values, intensities))\n",
    "    picker = oms.PeakPickerHiRes()\n",
    "    picked_spectrum = oms.MSSpectrum()\n",
    "    picker.pick(spectrum, picked_spectrum)\n",
    "\n",
    "    mz_picked, intensity_picked = picked_spectrum.get_peaks()\n",
    "    df_picked = pd.DataFrame({'m/z': mz_picked, 'Intensity': intensity_picked})\n",
    "    return df_picked"
   ]
  },
  {
   "cell_type": "code",
   "execution_count": 16,
   "metadata": {},
   "outputs": [
    {
     "data": {
      "text/html": [
       "<div>\n",
       "<style scoped>\n",
       "    .dataframe tbody tr th:only-of-type {\n",
       "        vertical-align: middle;\n",
       "    }\n",
       "\n",
       "    .dataframe tbody tr th {\n",
       "        vertical-align: top;\n",
       "    }\n",
       "\n",
       "    .dataframe thead th {\n",
       "        text-align: right;\n",
       "    }\n",
       "</style>\n",
       "<table border=\"1\" class=\"dataframe\">\n",
       "  <thead>\n",
       "    <tr style=\"text-align: right;\">\n",
       "      <th></th>\n",
       "      <th>m/z</th>\n",
       "      <th>Intensity</th>\n",
       "    </tr>\n",
       "  </thead>\n",
       "  <tbody>\n",
       "    <tr>\n",
       "      <th>0</th>\n",
       "      <td>0.0</td>\n",
       "      <td>0.0</td>\n",
       "    </tr>\n",
       "  </tbody>\n",
       "</table>\n",
       "</div>"
      ],
      "text/plain": [
       "   m/z  Intensity\n",
       "0  0.0        0.0"
      ]
     },
     "execution_count": 16,
     "metadata": {},
     "output_type": "execute_result"
    }
   ],
   "source": [
    "tools.get_isotope_envelope(rep)"
   ]
  },
  {
   "cell_type": "code",
   "execution_count": 10,
   "metadata": {},
   "outputs": [
    {
     "data": {
      "text/plain": [
       "array([nan])"
      ]
     },
     "execution_count": 10,
     "metadata": {},
     "output_type": "execute_result"
    }
   ],
   "source": [
    "rep.isotope_envelope"
   ]
  },
  {
   "cell_type": "code",
   "execution_count": 10,
   "metadata": {},
   "outputs": [
    {
     "data": {
      "image/png": "[encoded data removed]",
      "text/plain": [
       "<Figure size 800x1000 with 5 Axes>"
      ]
     },
     "metadata": {},
     "output_type": "display_data"
    }
   ],
   "source": [
    "import seaborn as sns\n",
    "import matplotlib.pyplot as plt\n",
    "fig, axes = plt.subplots(5, 1,figsize=(8,10), sharex=True, sharey=True)\n",
    "\n",
    "for i,rep in enumerate([rep for tp in pep.timepoints for rep in tp.get_replicates() if rep.charge_state == pep.best_charge_state][:5]):\n",
    "    ax = axes.flatten()[i]\n",
    "\n",
    "    isotope_envelope = tools.get_isotope_envelope(rep)\n",
    "    ax.stem(isotope_envelope['m/z'],isotope_envelope['Intensity'], linefmt='-', markerfmt=' ', basefmt=\" \", label=f't={rep.timepoint.time}')\n",
    "    #sns.lineplot(x='m/z', y='Intensity', data=tp.raw_ms, linewidth=1.0)\n",
    "\n",
    "    ax.legend()\n",
    "    #ax.set_ylim(0, 0.3)\n",
    "\n",
    "\n",
    "plt.tight_layout()"
   ]
  },
  {
   "cell_type": "code",
   "execution_count": null,
   "metadata": {},
   "outputs": [],
   "source": []
  }
 ],
 "metadata": {
  "kernelspec": {
   "display_name": "openmm",
   "language": "python",
   "name": "python3"
  },
  "language_info": {
   "codemirror_mode": {
    "name": "ipython",
    "version": 3
   },
   "file_extension": ".py",
   "mimetype": "text/x-python",
   "name": "python",
   "nbconvert_exporter": "python",
   "pygments_lexer": "ipython3",
   "version": "3.10.12"
  }
 },
 "nbformat": 4,
 "nbformat_minor": 2
}
